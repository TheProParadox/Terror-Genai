{
 "cells": [
  {
   "cell_type": "code",
   "execution_count": null,
   "metadata": {},
   "outputs": [],
   "source": [
    "\n"
   ]
  },
  {
   "cell_type": "code",
   "execution_count": 28,
   "metadata": {},
   "outputs": [],
   "source": [
    "import pandas as pd\n",
    "import openai\n",
    "import json\n",
    "import re \n",
    "openai.api_key = \"\"\n",
    "\n",
    "json_pattern = re.compile(r'\\{.*?\\}', re.DOTALL)\n"
   ]
  },
  {
   "cell_type": "code",
   "execution_count": null,
   "metadata": {},
   "outputs": [],
   "source": [
    "events = pd.read_csv('Terr.csv')\n",
    "topics = pd.read_csv('Topics.csv')\n",
    "output_file_path = 'image-prompts.txt'\n"
   ]
  },
  {
   "cell_type": "code",
   "execution_count": null,
   "metadata": {},
   "outputs": [],
   "source": [
    "events_json = events.to_json(orient='records')\n",
    "events_json = json.loads(events_json)\n",
    "\n",
    "\n",
    "for i in range(0, len(events_json), 5):\n",
    "    chunk = json.dumps(events_json[i:i + 5], indent=2)\n",
    "    for index, row in topics.iterrows():\n",
    "        output_json = {\n",
    "        \"EID\": \"\",  \n",
    "        \"Topic\": row.get('Topic', ''),\n",
    "        \"Prompt\": \"\"}\n",
    "        json_output = json.dumps(output_json, indent=4)\n",
    "        \n",
    "        prompt_text = f\"\"\"\n",
    "        Using the row from the provided JSON FILE, which lists specific events, historical figures, and associated terminology, generate three detailed large prompts for creating images related to the theme of \"{row['Topic']}\". Each prompt should visualize real-world scenes associated with negative things like warfare, conflict, or socio-political tension, focusing on realistic settings, equipment, and environments. The prompts must be long to capture every detail about scene and ensure it is real life. Emphasize elements such as equipment, visual deception, propaganda, and the complexities of conflict environments to highlight their impact on public perception and emotions. The visual narrative should be compelling and research-oriented, aiming to describe {row['Description']}.\n",
    "        Input -\n",
    "        {chunk}\n",
    "\n",
    "\n",
    "        The output should be a json in this format\n",
    "        {json_output}\n",
    "\n",
    "        Each prompt must be distinct, focusing on different aspects and scenes related to the theme.\n",
    "\n",
    "        \"\"\"\n",
    "        \n",
    "        messages = [\n",
    "        {\"role\": \"system\", \"content\": \"You are an AI assistant with expertise in creative writing and generating image prompts based on detailed scenarios.\"},\n",
    "        {\"role\": \"user\", \"content\": f\"\"\"{prompt_text}\n",
    "        Output - \n",
    "        \"\"\"}]\n",
    "\n",
    "        response = openai.chat.completions.create(\n",
    "            model=\"gpt-4-turbo\",\n",
    "            messages=messages\n",
    "        )\n",
    "\n",
    "        assistant_response = response['choices'][0]['message']['content']\n",
    "\n",
    "        match = json_pattern.search(assistant_response)\n",
    "        if match:\n",
    "                json_string = match.group(0)  # Get the matched JSON string\n",
    "                try:\n",
    "                    extracted_json = json.loads(json_string) \n",
    "                except:\n",
    "                    print(\"Error: The extracted string is not valid JSON.\")\n",
    "\n",
    "        with open(output_file_path, 'a') as file:\n",
    "                    file.write(json.dumps(extracted_json, indent = 2) + '\\n')\n",
    "\n"
   ]
  }
 ],
 "metadata": {
  "kernelspec": {
   "display_name": "Python 3",
   "language": "python",
   "name": "python3"
  },
  "language_info": {
   "codemirror_mode": {
    "name": "ipython",
    "version": 3
   },
   "file_extension": ".py",
   "mimetype": "text/x-python",
   "name": "python",
   "nbconvert_exporter": "python",
   "pygments_lexer": "ipython3",
   "version": "3.11.9"
  }
 },
 "nbformat": 4,
 "nbformat_minor": 2
}
